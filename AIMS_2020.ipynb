{
  "nbformat": 4,
  "nbformat_minor": 0,
  "metadata": {
    "kernelspec": {
      "display_name": "Python 3",
      "language": "python",
      "name": "python3"
    },
    "language_info": {
      "codemirror_mode": {
        "name": "ipython",
        "version": 3
      },
      "file_extension": ".py",
      "mimetype": "text/x-python",
      "name": "python",
      "nbconvert_exporter": "python",
      "pygments_lexer": "ipython3",
      "version": "3.6.8"
    },
    "colab": {
      "name": "MVARL19_part1_SOLUTION.ipynb",
      "provenance": [],
      "collapsed_sections": [],
      "toc_visible": true,
      "include_colab_link": true
    }
  },
  "cells": [
    {
      "cell_type": "markdown",
      "metadata": {
        "id": "view-in-github",
        "colab_type": "text"
      },
      "source": [
        "<a href=\"https://colab.research.google.com/github/fstrub95/RL/blob/master/AIMS_2020.ipynb\" target=\"_parent\"><img src=\"https://colab.research.google.com/assets/colab-badge.svg\" alt=\"Open In Colab\"/></a>"
      ]
    },
    {
      "cell_type": "markdown",
      "metadata": {
        "id": "QYW2YAMZOX4-",
        "colab_type": "text"
      },
      "source": [
        "# Reinforcement Learning in Finite MDPs"
      ]
    },
    {
      "cell_type": "code",
      "metadata": {
        "id": "8K4vLMPTSxmn",
        "colab_type": "code",
        "colab": {}
      },
      "source": [
        "!git clone https://github.com/rlgammazero/mvarl_hands_on.git > /dev/null 2>&1\n",
        "!cd mvarl_hands_on && git fetch"
      ],
      "execution_count": 0,
      "outputs": []
    },
    {
      "cell_type": "markdown",
      "metadata": {
        "id": "NNsuKZxeOX4_",
        "colab_type": "text"
      },
      "source": [
        "## MDPs"
      ]
    },
    {
      "cell_type": "code",
      "metadata": {
        "id": "bNlEnGsYOX5A",
        "colab_type": "code",
        "colab": {}
      },
      "source": [
        "import sys\n",
        "sys.path.insert(0, './mvarl_hands_on/utils')\n",
        "import numpy as np\n",
        "from scipy.special import softmax # for SARSA\n",
        "import matplotlib.pyplot as plt\n",
        "import json\n",
        "import math\n",
        "from test_env import ToyEnv1\n",
        "from frozen_lake import FrozenLake\n",
        "from cliffwalk import CliffWalk"
      ],
      "execution_count": 0,
      "outputs": []
    },
    {
      "cell_type": "markdown",
      "metadata": {
        "id": "Hdzoq4dLOX5C",
        "colab_type": "text"
      },
      "source": [
        "Setting up the environment"
      ]
    },
    {
      "cell_type": "code",
      "metadata": {
        "id": "WVHOHJJeOX5C",
        "colab_type": "code",
        "outputId": "399315e3-e195-41ce-91c6-1bf9af2f6f2c",
        "colab": {
          "base_uri": "https://localhost:8080/",
          "height": 340
        }
      },
      "source": [
        "# env = ToyEnv1(gamma=0.95)\n",
        "# env = FrozenLake(gamma=0.95, deterministic=False, data_path=\"./mvarl_hands_on/data\")\n",
        "env = CliffWalk(proba_succ=0.98)\n",
        "\n",
        "# Useful attributes\n",
        "print(\"Set of states:\", env.states)\n",
        "print(\"Set of actions:\", env.actions)\n",
        "print(\"Number of states: \", env.Ns)\n",
        "print(\"Number of actions: \", env.Na)\n",
        "print(\"P has shape: \", env.P.shape)  # P[s'|s,a] = P[s, a, s'] = env.P[s, a, s']\n",
        "print(\"R has shape: \", env.R.shape)  \n",
        "print(\"discount factor: \", env.gamma)\n",
        "print(\"\")\n",
        "\n",
        "# Usefult methods\n",
        "state = env.reset() # get initial state\n",
        "print(\"initial state: \", state)\n",
        "print(\"reward at (s=1, a=3,s'=2): \", env.reward_func(1,3,2))\n",
        "print(\"\")\n",
        "\n",
        "# A random policy\n",
        "policy = np.random.randint(env.Na, size = (env.Ns,))\n",
        "print(\"random policy = \", policy)\n",
        "\n",
        "# Interacting with the environment\n",
        "print(\"(s, a, s', r):\")\n",
        "for time in range(4):\n",
        "    action = policy[state]\n",
        "    next_state, reward, done, info = env.step(action)\n",
        "    print(state, action, next_state, reward)\n",
        "    if done:\n",
        "        break\n",
        "    state = next_state\n",
        "print(\"\")\n"
      ],
      "execution_count": 0,
      "outputs": [
        {
          "output_type": "stream",
          "text": [
            "Set of states: range(0, 48)\n",
            "Set of actions: [0, 1, 2, 3]\n",
            "Number of states:  48\n",
            "Number of actions:  4\n",
            "P has shape:  (48, 4, 48)\n",
            "R has shape:  (48, 4, 48)\n",
            "discount factor:  0.99\n",
            "\n",
            "initial state:  36\n",
            "reward at (s=1, a=3,s'=2):  0.6\n",
            "\n",
            "random policy =  [3 3 0 3 3 0 2 0 1 0 3 0 1 3 3 0 3 2 2 2 0 0 2 1 3 2 3 3 3 0 2 2 3 2 0 1 1\n",
            " 1 1 0 1 2 0 0 1 0 3 1]\n",
            "(s, a, s', r):\n",
            "36 1 36 0.6\n",
            "36 1 36 0.6\n",
            "36 1 36 0.6\n",
            "36 1 36 0.6\n",
            "\n"
          ],
          "name": "stdout"
        }
      ]
    },
    {
      "cell_type": "code",
      "metadata": {
        "colab_type": "code",
        "id": "EfcP6iagOfak",
        "colab": {}
      },
      "source": [
        "# def bellman_operator(Q, env):\n",
        "#     TQ = np.zeros((env.Ns, env.Na))\n",
        "#     greedy_policy = np.zeros(env.Ns)\n",
        "#     for s in env.states:\n",
        "#         for a in env.actions:\n",
        "#             prob = env.P[s, a, :]\n",
        "#             rewards = np.array([float(env.reward_func(s,a, s_)) for s_ in env.states])\n",
        "#             TQ[s,a] = np.sum( prob*(rewards + env.gamma*Q.max(axis=1))  )\n",
        "\n",
        "#     greedy_policy = np.argmax(TQ, axis = 1)\n",
        "    \n",
        "#     return TQ, greedy_policy\n",
        "# def value_iteration(Q0, env, epsilon=1e-5):\n",
        "#     \"\"\"\n",
        "#     Finding the optimal value function. To be done!\n",
        "#     \"\"\"\n",
        "#     Q = Q0\n",
        "#     while True:\n",
        "#         TQ, greedy_policy = bellman_operator(Q, env)\n",
        "\n",
        "#         err = np.abs(TQ-Q).max() \n",
        "#         if err < epsilon:\n",
        "#             return TQ, greedy_policy\n",
        "\n",
        "#         Q = TQ\n",
        "# # --------------\n",
        "# # Solution to 2.\n",
        "# # --------------\n",
        "# epsilon = 1e-14\n",
        "# Q_opts = {}\n",
        "# for env in [ToyEnv1(), FrozenLake(gamma=0.95, deterministic=False, data_path=\"./mvarl_hands_on/data\"), CliffWalk(proba_succ=0.98)]:\n",
        "#     Q0 = np.zeros((env.Ns, env.Na))\n",
        "\n",
        "#     Q, greedy_policy = value_iteration(Q0, env, epsilon)\n",
        "# #     err = np.abs(Q - bellman_operator(Q, env)[0]).max()\n",
        "#     print(Q)\n",
        "#     Q_opts[\"{}_{}\".format(type(env).__name__,env.gamma)] = Q.tolist()\n",
        "# #     print(\"norm of T(Q) - Q = \", err)\n",
        "# #     assert err <= epsilon\n",
        "\n",
        "# import json\n",
        "# with open(\"./mvarl_hands_on/data/Q_opts.json\", \"w+\") as fp:\n",
        "#     json.dump(Q_opts, fp)\n"
      ],
      "execution_count": 0,
      "outputs": []
    },
    {
      "cell_type": "markdown",
      "metadata": {
        "id": "2ugaKsHsOX5G",
        "colab_type": "text"
      },
      "source": [
        "## Question 1: value iteration\n",
        "1. Write a function applying the optimal Bellman operator on a provided Q function: $Q_1 = LQ_0, \\; Q_0\\in \\mathbb{R}^{S\\times A}$\n",
        "2. Write a function implementing Value Iteration (VI) with $\\infty$-norm stopping condition (reuse function implemented in 1)\n",
        "3. Evaluate the convergence of your estimate, i.e., plot the value $\\|V_n - V^\\star\\|_{\\infty}$"
      ]
    },
    {
      "cell_type": "code",
      "metadata": {
        "id": "FKkDqSyBOX5G",
        "colab_type": "code",
        "colab": {}
      },
      "source": [
        "# --------------\n",
        "# Point 1\n",
        "# --------------\n",
        "def bellman_operator2(Q0, Ns, Na, R, P, gamma):\n",
        "    Q1 = (R*P).sum(axis=2) + gamma * np.dot(P, np.max(Q0, axis=1))\n",
        "    greedy_policy = np.argmax(Q1, axis=1)\n",
        "    return Q1, greedy_policy\n",
        "\n",
        "def bellman_operator(Q0, env, gamma):\n",
        "    TQ = np.zeros((env.Ns, env.Na))\n",
        "    for s in range(env.Ns):\n",
        "        for a in range(env.Na):\n",
        "            prob = env.P[s, a, :]\n",
        "            rewards = np.array([float(env.reward_func(s,a, s_)) for s_ in env.states])\n",
        "            TQ[s,a] = np.sum( prob*(rewards + gamma*Q0.max(axis=1)))\n",
        "#     Qnp1, greedy_policy = bellman_operator2(Q0, env.Na, env.Na, env.R, env.P, env.gamma)\n",
        "#     print(Qnp1)\n",
        "#     print(TQ)\n",
        "#     assert np.allclose(Qnp1, TQ)\n",
        "    greedy_policy = np.argmax(TQ, axis=1)\n",
        "    return TQ, greedy_policy"
      ],
      "execution_count": 0,
      "outputs": []
    },
    {
      "cell_type": "code",
      "metadata": {
        "id": "iL1xJ71YOX5I",
        "colab_type": "code",
        "colab": {}
      },
      "source": [
        "# --------------\n",
        "# Point 2\n",
        "# --------------\n",
        "def value_iteration(Q0, env, gamma, epsilon=1e-5):\n",
        "    S, A = env.Ns, env.Na\n",
        "    R, P = env.R, env.P\n",
        "    cond = True\n",
        "    Qn = Q0\n",
        "    Qfs = [Q0]\n",
        "    while cond:\n",
        "#         Qnp1, greedy_policy = bellman_operator(Qn, S, A, R, P, env.gamma)\n",
        "        Qnp1, greedy_policy =   bellman_operator(Qn, env, gamma=gamma)\n",
        "        cond = np.abs(Qnp1-Qn).max() > epsilon\n",
        "#         print(np.abs(Qnp1-Qn).max())\n",
        "        Qfs.append(Qnp1)\n",
        "        Qn = Qnp1\n",
        "    return Qn, greedy_policy, Qfs"
      ],
      "execution_count": 0,
      "outputs": []
    },
    {
      "cell_type": "code",
      "metadata": {
        "id": "ORwodC6pOX5J",
        "colab_type": "code",
        "outputId": "cfde5095-1f89-4d13-8068-e31eb718a5b9",
        "colab": {
          "base_uri": "https://localhost:8080/",
          "height": 312
        }
      },
      "source": [
        "# --------------\n",
        "# Point 3\n",
        "# --------------\n",
        "with open(\"./mvarl_hands_on/data/Q_opts.json\", \"r\") as fp:\n",
        "    Qopts = json.load(fp)\n",
        "Qstar = Qopts[\"{}_{}\".format(type(env).__name__,env.gamma)]\n",
        "\n",
        "Q0 = np.zeros((env.Ns, env.Na))\n",
        "Qn, greedy_policy, Qfs = value_iteration(Q0, env, gamma=env.gamma, epsilon=1e-5)\n",
        "norm_values = [np.abs(el - Qstar).max() for el in Qfs]\n",
        "plt.plot(norm_values)\n",
        "plt.xlabel('Iteration')\n",
        "plt.ylabel('Error')\n",
        "plt.title(\"Q-learning: Convergence of Q\")"
      ],
      "execution_count": 0,
      "outputs": [
        {
          "output_type": "execute_result",
          "data": {
            "text/plain": [
              "Text(0.5, 1.0, 'Q-learning: Convergence of Q')"
            ]
          },
          "metadata": {
            "tags": []
          },
          "execution_count": 6
        },
        {
          "output_type": "display_data",
          "data": {
            "image/png": "[encoded data removed]",
            "text/plain": [
              "<Figure size 432x288 with 1 Axes>"
            ]
          },
          "metadata": {
            "tags": []
          }
        }
      ]
    },
    {
      "cell_type": "code",
      "metadata": {
        "id": "AeQtVA0WvXM0",
        "colab_type": "code",
        "colab": {}
      },
      "source": [
        "state = env.reset()\n",
        "env.render()\n",
        "for i in range(50):\n",
        "    action = greedy_policy[state]\n",
        "    state, reward, done, _ = env.step(action)\n",
        "    env.render()"
      ],
      "execution_count": 0,
      "outputs": []
    },
    {
      "cell_type": "markdown",
      "metadata": {
        "id": "WHrlauOwOX5L",
        "colab_type": "text"
      },
      "source": [
        "## Question 2: Q learning\n",
        "Q learning is a model-free algorithm for estimating the optimal Q-function online.\n",
        "It is an off-policy algorithm since the samples are collected with a policy that is (potentially) not the one associated to the estimated Q-function.\n",
        "\n",
        "1. Implement Q learning with $\\epsilon$-greedy exploration.\n",
        "  - Plot the error in Q-functions over iterations\n",
        "  - Plot the cumulative sum of rewards"
      ]
    },
    {
      "cell_type": "code",
      "metadata": {
        "id": "QCxJruBNOX5M",
        "colab_type": "code",
        "colab": {}
      },
      "source": [
        "# ---------------------------\n",
        "# Q-Learning\n",
        "# ---------------------------\n",
        "# suggested interface\n",
        "# you can change it!\n",
        "class QLearning:\n",
        "    \"\"\"\n",
        "    Q learning with epsilon-greedy exploration\n",
        "    \"\"\"\n",
        "    def __init__(self, env, gamma, learning_rate, epsilon, min_epsilon):\n",
        "        self.env = env\n",
        "        self.gamma = gamma\n",
        "        self.learning_rate = learning_rate\n",
        "        self.epsilon = epsilon\n",
        "        self.min_epsilon = min_epsilon\n",
        "        self.Q = np.zeros((env.Ns, env.Na))\n",
        "        self.Nsa = np.zeros((env.Ns, env.Na))\n",
        "    \n",
        "    def sample_action(self, state, greedy=False):\n",
        "        epsilon = self.epsilon / max(1, math.sqrt(self.Nsa[state].min()))\n",
        "        if not greedy and np.random.uniform(0, 1) < epsilon:\n",
        "            # explore\n",
        "            return np.random.choice(self.env.actions)\n",
        "        else:\n",
        "            # exploit\n",
        "            b = self.Q[state, :]\n",
        "            idxs = np.flatnonzero(np.isclose(b, b.max()))\n",
        "            action = np.random.choice(idxs).item()\n",
        "            return self.env.actions[action]\n",
        "        \n",
        "    \n",
        "    def update(self, state, action, next_state, reward):\n",
        "        alpha = self.learning_rate / max(1, math.sqrt(self.Nsa[state, action]))\n",
        "        max_q = self.Q[next_state, :].max()\n",
        "        q = self.Q[state, action]\n",
        "        increment = reward + self.gamma*max_q - q\n",
        "        \n",
        "        # Update\n",
        "        self.Q[state, action] = self.Q[state, action] + alpha*increment\n",
        "        self.Nsa[state, action] += 1\n",
        "        \n",
        "    "
      ],
      "execution_count": 0,
      "outputs": []
    },
    {
      "cell_type": "code",
      "metadata": {
        "id": "IKvLi3X5OX5N",
        "colab_type": "code",
        "outputId": "81bb862e-09c7-43ff-9485-11e25fd24333",
        "colab": {
          "base_uri": "https://localhost:8080/",
          "height": 641
        }
      },
      "source": [
        "# --------------\n",
        "# Point 1\n",
        "# --------------\n",
        "# Number of Q learning steps\n",
        "max_steps = int(5e5)  \n",
        "\n",
        "Q0 = np.zeros((env.Ns, env.Na))\n",
        "# Use the previous code to verify the correctness of q learning\n",
        "Q_opt, pi_opt, _ = value_iteration(Q0, env, gamma=env.gamma, epsilon=1e-8)\n",
        "\n",
        "ql = QLearning(env, gamma=env.gamma, learning_rate=1., epsilon=0.6, min_epsilon=0.1)\n",
        "\n",
        "# main algorithmic loop\n",
        "norm_values = []\n",
        "rewards = np.zeros((max_steps))\n",
        "t = 0\n",
        "state = env.reset()\n",
        "while t < max_steps:\n",
        "    action = ql.sample_action(state)\n",
        "    observation, reward, done, info = env.step(action)\n",
        "    rewards[t] = rewards[max(0,t-1)] + reward\n",
        "    \n",
        "    ql.update(state=state, action=action, next_state=observation, reward=reward)\n",
        "    norm_values.append(np.abs(ql.Q - Q_opt).mean())\n",
        "    \n",
        "    state = observation\n",
        "    if done:\n",
        "        state = env.reset()\n",
        "    \n",
        "    # todo do something\n",
        "    t = t + 1\n",
        "\n",
        "plt.plot(norm_values)\n",
        "plt.xlabel('Iteration')\n",
        "plt.ylabel('Error')\n",
        "plt.title(\"Q-learning: Convergence of Q\")\n",
        "\n",
        "plt.figure()\n",
        "plt.plot(rewards)\n",
        "plt.xlabel('Iteration')\n",
        "plt.ylabel('Rewards')\n",
        "plt.title(\"Q-learning: Immediate rewards\")\n",
        "\n",
        "# print(env.render())\n",
        "print(\"optimal policy: \", pi_opt)\n",
        "greedy_policy_ql = np.argmax(ql.Q, axis=1)\n",
        "print(\"est policy:\", greedy_policy_ql)\n",
        "\n",
        "# how confident are you in the performance of the algorithm? maybe a single run is not enough"
      ],
      "execution_count": 0,
      "outputs": [
        {
          "output_type": "stream",
          "text": [
            "optimal policy:  [0 0 0 0 0 0 0 0 0 0 0 1 0 0 0 0 0 0 0 0 0 0 0 1 0 0 0 0 0 0 0 0 0 0 0 1 3\n",
            " 3 3 3 3 3 3 3 3 3 0 0]\n",
            "est policy: [0 0 0 3 2 2 2 2 1 0 0 0 3 0 3 3 2 2 2 3 0 0 0 0 3 3 3 3 3 2 3 0 3 3 2 3 3\n",
            " 0 3 3 2 3 2 0 3 2 2 0]\n"
          ],
          "name": "stdout"
        },
        {
          "output_type": "display_data",
          "data": {
            "image/png": "[encoded data removed]",
            "text/plain": [
              "<Figure size 432x288 with 1 Axes>"
            ]
          },
          "metadata": {
            "tags": []
          }
        },
        {
          "output_type": "display_data",
          "data": {
            "image/png": "[encoded data removed]",
            "text/plain": [
              "<Figure size 432x288 with 1 Axes>"
            ]
          },
          "metadata": {
            "tags": []
          }
        }
      ]
    },
    {
      "cell_type": "code",
      "metadata": {
        "id": "ysm4Cq_pxj5T",
        "colab_type": "code",
        "colab": {}
      },
      "source": [
        "state = env.reset()\n",
        "env.render()\n",
        "for i in range(50):\n",
        "    action = greedy_policy_ql[state]\n",
        "    state, reward, done, _ = env.step(action)\n",
        "    env.render()"
      ],
      "execution_count": 0,
      "outputs": []
    },
    {
      "cell_type": "markdown",
      "metadata": {
        "id": "59xsIjpIOX5P",
        "colab_type": "text"
      },
      "source": [
        "## Question 2: SARSA\n",
        "SARSA is another control algorithm. While Qlearning is off-policy, SARSA is on-policy.\n",
        "\n",
        "1. Implement SARSA with softmax (Gibbs) exploration and test the convergence to $Q^\\star$\n",
        "2. Evaluate the expected cumulative reward of the two algorithms: $t \\mapsto \\sum_{i=1}^t r_i$"
      ]
    },
    {
      "cell_type": "code",
      "metadata": {
        "id": "gySnHtrsOX5Q",
        "colab_type": "code",
        "colab": {}
      },
      "source": [
        "# ---------------------------\n",
        "# SARSA\n",
        "# ---------------------------\n",
        "# suggested interface\n",
        "# you can change it!\n",
        "class SARSA:\n",
        "    \"\"\"\n",
        "    SARSA with SOFTMAX exploration\n",
        "    \"\"\"\n",
        "    def __init__(self, env, gamma, learning_rate, temperature):\n",
        "        self.env = env\n",
        "        self.gamma = gamma\n",
        "        self.learning_rate = learning_rate\n",
        "        self.temp = temperature\n",
        "        self.Q = np.zeros((env.Ns, env.Na))\n",
        "        self.Nsa = np.zeros((env.Ns, env.Na))\n",
        "    \n",
        "    def sample_action(self, state, greedy=False):\n",
        "        # explore\n",
        "        tau = self.temp / max(1, math.sqrt(self.Nsa[state].min()))\n",
        "        val = self.Q[state, :]\n",
        "        prob = softmax(val / tau)\n",
        "        action = np.random.choice(self.env.actions, p=prob)\n",
        "        return self.env.actions[action]\n",
        "        \n",
        "    def update(self, state, action, next_state, next_action, reward):\n",
        "        alpha = self.learning_rate / max(1, math.sqrt(self.Nsa[state, action]))\n",
        "        q_next = self.Q[next_state, next_action]\n",
        "        q = self.Q[state, action]\n",
        "        increment = reward + self.gamma*q_next - q\n",
        "        \n",
        "        # Update\n",
        "        self.Q[state, action] = self.Q[state, action] + alpha*increment\n",
        "        self.Nsa[state, action] += 1\n",
        "    "
      ],
      "execution_count": 0,
      "outputs": []
    },
    {
      "cell_type": "code",
      "metadata": {
        "id": "Be0d4nOBOX5R",
        "colab_type": "code",
        "outputId": "617dc9e0-04f8-45e3-93ef-358a5e8cbe42",
        "colab": {
          "base_uri": "https://localhost:8080/",
          "height": 811
        }
      },
      "source": [
        "# --------------\n",
        "# Point 1\n",
        "# --------------\n",
        "\n",
        "sarsa = SARSA(env, gamma=env.gamma, learning_rate=1., temperature=1.)\n",
        "\n",
        "# main algorithmic loop\n",
        "norm_values = []\n",
        "rewards_SARSA = np.zeros((max_steps))\n",
        "t = 0\n",
        "state = env.reset()\n",
        "action = sarsa.sample_action(state)\n",
        "while t < max_steps:\n",
        "    action = sarsa.sample_action(state)\n",
        "    observation, reward, done, info = env.step(action)\n",
        "    rewards_SARSA[t] = rewards_SARSA[max(0, t-1)] + reward\n",
        "    next_action = sarsa.sample_action(observation)\n",
        "    \n",
        "    sarsa.update(state=state, action=action, \n",
        "                 next_state=observation, next_action=next_action, reward=reward)\n",
        "    norm_values.append(np.abs(sarsa.Q - Q_opt).mean())\n",
        "    \n",
        "    state = observation\n",
        "    if done:\n",
        "        state = env.reset()\n",
        "    \n",
        "    # todo do something\n",
        "    t = t + 1\n",
        "\n",
        "plt.plot(norm_values)\n",
        "plt.xlabel('Iteration')\n",
        "plt.ylabel('Error')\n",
        "plt.title(\"Q-learning: Convergence of Q\")\n",
        "\n",
        "plt.figure()\n",
        "plt.plot(rewards_SARSA, label=\"SARSA\")\n",
        "plt.plot(rewards, label=\"QL\")\n",
        "plt.xlabel('Iteration')\n",
        "plt.ylabel('Rewards')\n",
        "plt.title(\"Q-learning: Immediate rewards\")\n",
        "plt.legend()\n",
        "\n",
        "print(env.render())\n",
        "print(\"optimal policy: \", pi_opt)\n",
        "greedy_policy_sarsa = np.argmax(sarsa.Q, axis=1)\n",
        "print(\"est policy:\", greedy_policy_sarsa)\n",
        "\n",
        "# how confident are you in the performance of the algorithm? maybe a single run is not enough"
      ],
      "execution_count": 0,
      "outputs": [
        {
          "output_type": "stream",
          "text": [
            "+-----------------------+\n",
            "| : : : : : : : : : : : |\n",
            "| : : : :\u001b[43m_\u001b[0m: : : : : : : |\n",
            "| : : : : : : : : : : : |\n",
            "|S:x:x:x:x:x:x:x:x:x:x:G|\n",
            "+-----------------------+\n",
            "  (right)\n",
            "None\n",
            "optimal policy:  [0 0 0 0 0 0 0 0 0 0 0 1 0 0 0 0 0 0 0 0 0 0 0 1 0 0 0 0 0 0 0 0 0 0 0 1 3\n",
            " 3 3 3 3 3 3 3 3 3 0 0]\n",
            "est policy: [1 1 1 1 2 2 2 0 0 0 0 0 1 2 1 0 2 2 2 0 0 0 0 0 0 0 3 3 3 3 2 2 0 0 0 0 3\n",
            " 0 3 2 2 3 0 0 0 0 0 0]\n"
          ],
          "name": "stdout"
        },
        {
          "output_type": "display_data",
          "data": {
            "image/png": "[encoded data removed]",
            "text/plain": [
              "<Figure size 432x288 with 1 Axes>"
            ]
          },
          "metadata": {
            "tags": []
          }
        },
        {
          "output_type": "stream",
          "text": [
            "/usr/local/lib/python3.6/dist-packages/IPython/core/pylabtools.py:125: UserWarning: Creating legend with loc=\"best\" can be slow with large amounts of data.\n",
            "  fig.canvas.print_figure(bytes_io, **kw)\n"
          ],
          "name": "stderr"
        },
        {
          "output_type": "display_data",
          "data": {
            "image/png": "[encoded data removed]",
            "text/plain": [
              "<Figure size 432x288 with 1 Axes>"
            ]
          },
          "metadata": {
            "tags": []
          }
        }
      ]
    },
    {
      "cell_type": "code",
      "metadata": {
        "id": "rp-xiiRsTLm2",
        "colab_type": "code",
        "colab": {}
      },
      "source": [
        "state = env.reset()\n",
        "env.render()\n",
        "for i in range(50):\n",
        "    action = greedy_policy_sarsa[state]\n",
        "    state, reward, done, _ = env.step(action)\n",
        "    env.render()"
      ],
      "execution_count": 0,
      "outputs": []
    },
    {
      "cell_type": "code",
      "metadata": {
        "id": "O3dxgkNdo9G5",
        "colab_type": "code",
        "colab": {}
      },
      "source": [
        "\n",
        "from gridworld import GridWorldWithPits\n",
        "grid1 = [\n",
        "    ['', '', '', 'g'],\n",
        "    ['', 'x', '', ''],\n",
        "    ['s', '', '', '']\n",
        "]\n",
        "grid1_MAP = [\n",
        "    \"+-------+\",\n",
        "    \"| : : :G|\",\n",
        "    \"| :x: : |\",\n",
        "    \"|S: : : |\",\n",
        "    \"+-------+\",\n",
        "]\n",
        "\n",
        "\n",
        "env = GridWorldWithPits(grid=grid1, txt_map=grid1_MAP, uniform_trans_proba=0)"
      ],
      "execution_count": 0,
      "outputs": []
    }
  ]
}